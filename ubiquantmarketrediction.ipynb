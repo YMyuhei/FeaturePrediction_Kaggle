{
 "cells": [
  {
   "cell_type": "markdown",
   "id": "c1ac8d0d",
   "metadata": {
    "papermill": {
     "duration": 0.006729,
     "end_time": "2022-02-10T18:39:19.947413",
     "exception": false,
     "start_time": "2022-02-10T18:39:19.940684",
     "status": "completed"
    },
    "tags": []
   },
   "source": [
    "# GCP_API指定"
   ]
  },
  {
   "cell_type": "code",
   "execution_count": 1,
   "id": "575facb8",
   "metadata": {
    "execution": {
     "iopub.execute_input": "2022-02-10T18:39:19.968849Z",
     "iopub.status.busy": "2022-02-10T18:39:19.967104Z",
     "iopub.status.idle": "2022-02-10T18:39:19.982806Z",
     "shell.execute_reply": "2022-02-10T18:39:19.983648Z",
     "shell.execute_reply.started": "2022-02-06T11:00:35.512717Z"
    },
    "papermill": {
     "duration": 0.028186,
     "end_time": "2022-02-10T18:39:19.983963",
     "exception": false,
     "start_time": "2022-02-10T18:39:19.955777",
     "status": "completed"
    },
    "tags": []
   },
   "outputs": [],
   "source": [
    "from google.cloud import storage\n",
    "\n",
    "def upload_blob(bucket_name, source_file_name, destination_blob_name):\n",
    "    \"\"\"Uploads a file to the bucket. https://cloud.google.com/storage/docs/ \"\"\"\n",
    "    bucket = storage_client.get_bucket(bucket_name)\n",
    "    blob = bucket.blob(destination_blob_name)\n",
    "    blob.upload_from_filename(source_file_name)\n",
    "    print('File {} uploaded to {}.'.format(\n",
    "        source_file_name,\n",
    "        destination_blob_name))\n",
    "\n",
    "def list_blobs(bucket_name):\n",
    "    \"\"\"Lists all the blobs in the bucket. https://cloud.google.com/storage/docs/\"\"\"\n",
    "    blobs = storage_client.list_blobs(bucket_name)\n",
    "    for blob in blobs:\n",
    "        print(blob.name)\n",
    "        \n",
    "def download_to_kaggle(bucket_name,destination_directory):\n",
    "    \"\"\"Takes the data from your GCS Bucket and puts it into the working directory of your Kaggle notebook\"\"\"\n",
    "    os.makedirs(destination_directory, exist_ok = True)\n",
    "    blobs = storage_client.list_blobs(bucket_name)\n",
    "    for blob in blobs:\n",
    "        if \".parquet\" in blob.name:\n",
    "            full_file_path = os.path.join('/kaggle', blob.name)\n",
    "            print (full_file_path)\n",
    "            blob.download_to_filename(full_file_path)"
   ]
  },
  {
   "cell_type": "code",
   "execution_count": 2,
   "id": "67e50816",
   "metadata": {
    "execution": {
     "iopub.execute_input": "2022-02-10T18:39:20.002008Z",
     "iopub.status.busy": "2022-02-10T18:39:20.001025Z",
     "iopub.status.idle": "2022-02-10T18:39:21.508315Z",
     "shell.execute_reply": "2022-02-10T18:39:21.508876Z",
     "shell.execute_reply.started": "2022-02-06T11:00:35.521359Z"
    },
    "papermill": {
     "duration": 1.518992,
     "end_time": "2022-02-10T18:39:21.509062",
     "exception": false,
     "start_time": "2022-02-10T18:39:19.990070",
     "status": "completed"
    },
    "tags": []
   },
   "outputs": [
    {
     "name": "stdout",
     "output_type": "stream",
     "text": [
      "predict_future_sales/\n",
      "predict_future_sales/dataset/\n",
      "predict_future_sales/dataset/data.pkl\n",
      "predict_future_sales/input/cats.csv.gz\n",
      "predict_future_sales/input/item.csv.gz\n",
      "predict_future_sales/input/shops.csv.gz\n",
      "predict_future_sales/input/test.csv.gz\n",
      "predict_future_sales/input/train.csv.gz\n",
      "predict_future_sales/submission/xgb_submission.csv\n",
      "predict_future_sales/submission/xgb_submission2.csv\n",
      "ubiquant_market_prediction/\n",
      "ubiquant_market_prediction/input./train_pca.parquet\n",
      "ubiquant_market_prediction/input./train_pca.pkl\n",
      "ubiquant_market_prediction/input/\n",
      "ubiquant_market_prediction/input/train.parquet\n",
      "ubiquant_market_prediction/input/train.parquet.gzip\n",
      "ubiquant_market_prediction/input/train.pkl\n"
     ]
    }
   ],
   "source": [
    "storage_client = storage.Client(project='kaggle-336301')\n",
    "list_blobs('sokamura_kaggle',)"
   ]
  },
  {
   "cell_type": "code",
   "execution_count": 3,
   "id": "3d43d424",
   "metadata": {
    "execution": {
     "iopub.execute_input": "2022-02-10T18:39:21.526473Z",
     "iopub.status.busy": "2022-02-10T18:39:21.525785Z",
     "iopub.status.idle": "2022-02-10T18:39:21.528804Z",
     "shell.execute_reply": "2022-02-10T18:39:21.528289Z",
     "shell.execute_reply.started": "2022-02-10T18:33:55.693099Z"
    },
    "papermill": {
     "duration": 0.013186,
     "end_time": "2022-02-10T18:39:21.528968",
     "exception": false,
     "start_time": "2022-02-10T18:39:21.515782",
     "status": "completed"
    },
    "tags": []
   },
   "outputs": [],
   "source": [
    "import pandas as pd\n",
    "import numpy as  np\n",
    "import pyarrow as pa\n",
    "import pyarrow.parquet"
   ]
  },
  {
   "cell_type": "code",
   "execution_count": 4,
   "id": "3d561610",
   "metadata": {
    "execution": {
     "iopub.execute_input": "2022-02-10T18:39:21.546406Z",
     "iopub.status.busy": "2022-02-10T18:39:21.545552Z",
     "iopub.status.idle": "2022-02-10T18:40:00.929048Z",
     "shell.execute_reply": "2022-02-10T18:40:00.929889Z",
     "shell.execute_reply.started": "2022-02-10T18:35:39.980141Z"
    },
    "papermill": {
     "duration": 39.395405,
     "end_time": "2022-02-10T18:40:00.930421",
     "exception": false,
     "start_time": "2022-02-10T18:39:21.535016",
     "status": "completed"
    },
    "tags": []
   },
   "outputs": [],
   "source": [
    "train = pd.read_parquet('../input/ubiquant-data/ubiquant_market_prediction_input_train.parquet',engine= 'pyarrow')"
   ]
  },
  {
   "cell_type": "code",
   "execution_count": null,
   "id": "78e8688e",
   "metadata": {
    "papermill": {
     "duration": 0.00622,
     "end_time": "2022-02-10T18:40:00.945739",
     "exception": false,
     "start_time": "2022-02-10T18:40:00.939519",
     "status": "completed"
    },
    "tags": []
   },
   "outputs": [],
   "source": []
  }
 ],
 "metadata": {
  "kernelspec": {
   "display_name": "Python 3",
   "language": "python",
   "name": "python3"
  },
  "language_info": {
   "codemirror_mode": {
    "name": "ipython",
    "version": 3
   },
   "file_extension": ".py",
   "mimetype": "text/x-python",
   "name": "python",
   "nbconvert_exporter": "python",
   "pygments_lexer": "ipython3",
   "version": "3.7.12"
  },
  "papermill": {
   "default_parameters": {},
   "duration": 52.287814,
   "end_time": "2022-02-10T18:40:02.166259",
   "environment_variables": {},
   "exception": null,
   "input_path": "__notebook__.ipynb",
   "output_path": "__notebook__.ipynb",
   "parameters": {},
   "start_time": "2022-02-10T18:39:09.878445",
   "version": "2.3.3"
  }
 },
 "nbformat": 4,
 "nbformat_minor": 5
}
