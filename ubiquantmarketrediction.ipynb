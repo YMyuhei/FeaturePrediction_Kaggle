{
 "cells": [
  {
   "cell_type": "markdown",
   "id": "e3cd456f",
   "metadata": {
    "papermill": {
     "duration": 0.005226,
     "end_time": "2022-01-29T02:24:25.544520",
     "exception": false,
     "start_time": "2022-01-29T02:24:25.539294",
     "status": "completed"
    },
    "tags": []
   },
   "source": [
    "# GCP_API指定"
   ]
  },
  {
   "cell_type": "code",
   "execution_count": 1,
   "id": "5f4c8a5e",
   "metadata": {
    "execution": {
     "iopub.execute_input": "2022-01-29T02:24:25.559722Z",
     "iopub.status.busy": "2022-01-29T02:24:25.557857Z",
     "iopub.status.idle": "2022-01-29T02:24:25.575701Z",
     "shell.execute_reply": "2022-01-29T02:24:25.576507Z",
     "shell.execute_reply.started": "2022-01-28T15:10:56.7012Z"
    },
    "papermill": {
     "duration": 0.02718,
     "end_time": "2022-01-29T02:24:25.576919",
     "exception": false,
     "start_time": "2022-01-29T02:24:25.549739",
     "status": "completed"
    },
    "tags": []
   },
   "outputs": [],
   "source": [
    "from google.cloud import storage\n",
    "\n",
    "def upload_blob(bucket_name, source_file_name, destination_blob_name):\n",
    "    \"\"\"Uploads a file to the bucket. https://cloud.google.com/storage/docs/ \"\"\"\n",
    "    bucket = storage_client.get_bucket(bucket_name)\n",
    "    blob = bucket.blob(destination_blob_name)\n",
    "    blob.upload_from_filename(source_file_name)\n",
    "    print('File {} uploaded to {}.'.format(\n",
    "        source_file_name,\n",
    "        destination_blob_name))\n",
    "\n",
    "def list_blobs(bucket_name):\n",
    "    \"\"\"Lists all the blobs in the bucket. https://cloud.google.com/storage/docs/\"\"\"\n",
    "    blobs = storage_client.list_blobs(bucket_name)\n",
    "    for blob in blobs:\n",
    "        print(blob.name)"
   ]
  },
  {
   "cell_type": "code",
   "execution_count": 2,
   "id": "9c49b9b8",
   "metadata": {
    "execution": {
     "iopub.execute_input": "2022-01-29T02:24:25.589965Z",
     "iopub.status.busy": "2022-01-29T02:24:25.589162Z",
     "iopub.status.idle": "2022-01-29T02:24:26.176375Z",
     "shell.execute_reply": "2022-01-29T02:24:26.176891Z",
     "shell.execute_reply.started": "2022-01-28T15:11:18.216321Z"
    },
    "papermill": {
     "duration": 0.59553,
     "end_time": "2022-01-29T02:24:26.177057",
     "exception": false,
     "start_time": "2022-01-29T02:24:25.581527",
     "status": "completed"
    },
    "tags": []
   },
   "outputs": [
    {
     "name": "stdout",
     "output_type": "stream",
     "text": [
      "predict_future_sales/\n",
      "predict_future_sales/dataset/\n",
      "predict_future_sales/dataset/data.pkl\n",
      "predict_future_sales/input/cats.csv.gz\n",
      "predict_future_sales/input/item.csv.gz\n",
      "predict_future_sales/input/shops.csv.gz\n",
      "predict_future_sales/input/test.csv.gz\n",
      "predict_future_sales/input/train.csv.gz\n",
      "predict_future_sales/submission/xgb_submission.csv\n",
      "predict_future_sales/submission/xgb_submission2.csv\n",
      "ubiquant_market_prediction/\n",
      "ubiquant_market_prediction/input/\n",
      "ubiquant_market_prediction/input/train.parquet\n",
      "ubiquant_market_prediction/input/train.pkl\n"
     ]
    }
   ],
   "source": [
    "storage_client = storage.Client(project='kaggle-336301')\n",
    "list_blobs('sokamura_kaggle')"
   ]
  }
 ],
 "metadata": {
  "kernelspec": {
   "display_name": "Python 3",
   "language": "python",
   "name": "python3"
  },
  "language_info": {
   "codemirror_mode": {
    "name": "ipython",
    "version": 3
   },
   "file_extension": ".py",
   "mimetype": "text/x-python",
   "name": "python",
   "nbconvert_exporter": "python",
   "pygments_lexer": "ipython3",
   "version": "3.7.12"
  },
  "papermill": {
   "default_parameters": {},
   "duration": 10.71489,
   "end_time": "2022-01-29T02:24:26.789824",
   "environment_variables": {},
   "exception": null,
   "input_path": "__notebook__.ipynb",
   "output_path": "__notebook__.ipynb",
   "parameters": {},
   "start_time": "2022-01-29T02:24:16.074934",
   "version": "2.3.3"
  }
 },
 "nbformat": 4,
 "nbformat_minor": 5
}
