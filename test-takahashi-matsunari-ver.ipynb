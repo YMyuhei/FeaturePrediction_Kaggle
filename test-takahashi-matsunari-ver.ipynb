{
 "cells": [
  {
   "cell_type": "code",
   "execution_count": 1,
   "id": "16e5b0b5",
   "metadata": {
    "_cell_guid": "b1076dfc-b9ad-4769-8c92-a6c4dae69d19",
    "_uuid": "8f2839f25d086af736a60e9eeb907d3b93b6e0e5",
    "execution": {
     "iopub.execute_input": "2022-01-15T16:01:53.719435Z",
     "iopub.status.busy": "2022-01-15T16:01:53.718038Z",
     "iopub.status.idle": "2022-01-15T16:01:56.000423Z",
     "shell.execute_reply": "2022-01-15T16:01:55.999653Z",
     "shell.execute_reply.started": "2022-01-15T15:21:16.530489Z"
    },
    "papermill": {
     "duration": 2.315397,
     "end_time": "2022-01-15T16:01:56.000620",
     "exception": false,
     "start_time": "2022-01-15T16:01:53.685223",
     "status": "completed"
    },
    "tags": []
   },
   "outputs": [
    {
     "data": {
      "text/html": [
       "<style type='text/css'>\n",
       ".datatable table.frame { margin-bottom: 0; }\n",
       ".datatable table.frame thead { border-bottom: none; }\n",
       ".datatable table.frame tr.coltypes td {  color: #FFFFFF;  line-height: 6px;  padding: 0 0.5em;}\n",
       ".datatable .bool    { background: #DDDD99; }\n",
       ".datatable .object  { background: #565656; }\n",
       ".datatable .int     { background: #5D9E5D; }\n",
       ".datatable .float   { background: #4040CC; }\n",
       ".datatable .str     { background: #CC4040; }\n",
       ".datatable .time    { background: #40CC40; }\n",
       ".datatable .row_index {  background: var(--jp-border-color3);  border-right: 1px solid var(--jp-border-color0);  color: var(--jp-ui-font-color3);  font-size: 9px;}\n",
       ".datatable .frame tbody td { text-align: left; }\n",
       ".datatable .frame tr.coltypes .row_index {  background: var(--jp-border-color0);}\n",
       ".datatable th:nth-child(2) { padding-left: 12px; }\n",
       ".datatable .hellipsis {  color: var(--jp-cell-editor-border-color);}\n",
       ".datatable .vellipsis {  background: var(--jp-layout-color0);  color: var(--jp-cell-editor-border-color);}\n",
       ".datatable .na {  color: var(--jp-cell-editor-border-color);  font-size: 80%;}\n",
       ".datatable .sp {  opacity: 0.25;}\n",
       ".datatable .footer { font-size: 9px; }\n",
       ".datatable .frame_dimensions {  background: var(--jp-border-color3);  border-top: 1px solid var(--jp-border-color0);  color: var(--jp-ui-font-color3);  display: inline-block;  opacity: 0.6;  padding: 1px 10px 1px 5px;}\n",
       "</style>\n"
      ],
      "text/plain": [
       "<IPython.core.display.HTML object>"
      ]
     },
     "metadata": {},
     "output_type": "display_data"
    }
   ],
   "source": [
    "import copy\n",
    "import numpy as np\n",
    "import pandas as pd\n",
    "from itertools import product\n",
    "\n",
    "import matplotlib.pyplot as plt\n",
    "import seaborn as sns\n",
    "\n",
    "from lightgbm.sklearn import LGBMRegressor\n",
    "from lightgbm import plot_importance\n",
    "from sklearn.preprocessing import LabelEncoder\n",
    "\n",
    "pd.set_option('display.max_rows', 100)"
   ]
  },
  {
   "cell_type": "markdown",
   "id": "e3c53441",
   "metadata": {
    "papermill": {
     "duration": 0.021861,
     "end_time": "2022-01-15T16:01:56.041833",
     "exception": false,
     "start_time": "2022-01-15T16:01:56.019972",
     "status": "completed"
    },
    "tags": []
   },
   "source": [
    "# GCPAPi指定"
   ]
  },
  {
   "cell_type": "code",
   "execution_count": 2,
   "id": "eaab919a",
   "metadata": {
    "execution": {
     "iopub.execute_input": "2022-01-15T16:01:56.090404Z",
     "iopub.status.busy": "2022-01-15T16:01:56.089478Z",
     "iopub.status.idle": "2022-01-15T16:01:56.093620Z",
     "shell.execute_reply": "2022-01-15T16:01:56.092707Z",
     "shell.execute_reply.started": "2022-01-15T15:21:16.537191Z"
    },
    "papermill": {
     "duration": 0.032144,
     "end_time": "2022-01-15T16:01:56.093800",
     "exception": false,
     "start_time": "2022-01-15T16:01:56.061656",
     "status": "completed"
    },
    "tags": []
   },
   "outputs": [],
   "source": [
    "from google.cloud import storage\n",
    "def upload_blob(bucket_name, source_file_name, destination_blob_name):\n",
    "    \"\"\"Uploads a file to the bucket. https://cloud.google.com/storage/docs/ \"\"\"\n",
    "    bucket = storage_client.get_bucket(bucket_name)\n",
    "    blob = bucket.blob(destination_blob_name)\n",
    "    blob.upload_from_filename(source_file_name)\n",
    "    print('File {} uploaded to {}.'.format(\n",
    "        source_file_name,\n",
    "        destination_blob_name))\n",
    "\n",
    "def list_blobs(bucket_name):\n",
    "    \"\"\"Lists all the blobs in the bucket. https://cloud.google.com/storage/docs/\"\"\"\n",
    "    blobs = storage_client.list_blobs(bucket_name)\n",
    "    for blob in blobs:\n",
    "        print(blob.name)\n",
    "        "
   ]
  },
  {
   "cell_type": "code",
   "execution_count": 3,
   "id": "41f6e40e",
   "metadata": {
    "execution": {
     "iopub.execute_input": "2022-01-15T16:01:56.149829Z",
     "iopub.status.busy": "2022-01-15T16:01:56.141395Z",
     "iopub.status.idle": "2022-01-15T16:01:56.585583Z",
     "shell.execute_reply": "2022-01-15T16:01:56.584321Z",
     "shell.execute_reply.started": "2022-01-15T15:21:16.549888Z"
    },
    "papermill": {
     "duration": 0.472578,
     "end_time": "2022-01-15T16:01:56.585848",
     "exception": false,
     "start_time": "2022-01-15T16:01:56.113270",
     "status": "completed"
    },
    "tags": []
   },
   "outputs": [
    {
     "name": "stdout",
     "output_type": "stream",
     "text": [
      "predict_future_sales/\n",
      "predict_future_sales/input/cats.csv.gz\n",
      "predict_future_sales/input/item.csv.gz\n",
      "predict_future_sales/input/shops.csv.gz\n",
      "predict_future_sales/input/test.csv.gz\n",
      "predict_future_sales/input/train.csv.gz\n",
      "predict_future_sales/submission/xgb_submission.csv\n"
     ]
    }
   ],
   "source": [
    "storage_client = storage.Client(project='kaggle-336301')\n",
    "list_blobs('sokamura_kaggle')"
   ]
  },
  {
   "cell_type": "markdown",
   "id": "190cbccf",
   "metadata": {
    "papermill": {
     "duration": 0.020352,
     "end_time": "2022-01-15T16:01:56.627349",
     "exception": false,
     "start_time": "2022-01-15T16:01:56.606997",
     "status": "completed"
    },
    "tags": []
   },
   "source": [
    "# データ概要\n",
    "## データ読み込み"
   ]
  },
  {
   "cell_type": "code",
   "execution_count": 4,
   "id": "5ccbe83b",
   "metadata": {
    "execution": {
     "iopub.execute_input": "2022-01-15T16:01:56.673965Z",
     "iopub.status.busy": "2022-01-15T16:01:56.673375Z",
     "iopub.status.idle": "2022-01-15T16:01:59.259859Z",
     "shell.execute_reply": "2022-01-15T16:01:59.259181Z",
     "shell.execute_reply.started": "2022-01-15T15:21:17.028467Z"
    },
    "papermill": {
     "duration": 2.610747,
     "end_time": "2022-01-15T16:01:59.260009",
     "exception": false,
     "start_time": "2022-01-15T16:01:56.649262",
     "status": "completed"
    },
    "tags": []
   },
   "outputs": [],
   "source": [
    "day_train_data = pd.read_csv('../input/competitive-data-science-predict-future-sales/sales_train.csv')\n",
    "month_test_data = pd.read_csv('../input/competitive-data-science-predict-future-sales/test.csv')\n",
    "item_categories = pd.read_csv('../input/competitive-data-science-predict-future-sales/item_categories.csv')\n",
    "items = pd.read_csv('../input/competitive-data-science-predict-future-sales/items.csv')\n",
    "shops = pd.read_csv('../input/competitive-data-science-predict-future-sales/shops.csv')"
   ]
  },
  {
   "cell_type": "markdown",
   "id": "94367c88",
   "metadata": {
    "papermill": {
     "duration": 0.02074,
     "end_time": "2022-01-15T16:01:59.303107",
     "exception": false,
     "start_time": "2022-01-15T16:01:59.282367",
     "status": "completed"
    },
    "tags": []
   },
   "source": [
    "## 生データの閲覧"
   ]
  },
  {
   "cell_type": "code",
   "execution_count": 5,
   "id": "638c2f0f",
   "metadata": {
    "execution": {
     "iopub.execute_input": "2022-01-15T16:01:59.405561Z",
     "iopub.status.busy": "2022-01-15T16:01:59.404524Z",
     "iopub.status.idle": "2022-01-15T16:01:59.416097Z",
     "shell.execute_reply": "2022-01-15T16:01:59.415590Z",
     "shell.execute_reply.started": "2022-01-15T15:21:18.380204Z"
    },
    "papermill": {
     "duration": 0.092446,
     "end_time": "2022-01-15T16:01:59.416285",
     "exception": false,
     "start_time": "2022-01-15T16:01:59.323839",
     "status": "completed"
    },
    "tags": []
   },
   "outputs": [],
   "source": [
    "day_train_data.drop('date', axis=1, inplace=True)"
   ]
  },
  {
   "cell_type": "code",
   "execution_count": 6,
   "id": "ffa5e1cc",
   "metadata": {
    "execution": {
     "iopub.execute_input": "2022-01-15T16:01:59.464855Z",
     "iopub.status.busy": "2022-01-15T16:01:59.464213Z",
     "iopub.status.idle": "2022-01-15T16:01:59.467441Z",
     "shell.execute_reply": "2022-01-15T16:01:59.467889Z",
     "shell.execute_reply.started": "2022-01-15T15:21:44.748290Z"
    },
    "papermill": {
     "duration": 0.032792,
     "end_time": "2022-01-15T16:01:59.468061",
     "exception": false,
     "start_time": "2022-01-15T16:01:59.435269",
     "status": "completed"
    },
    "tags": []
   },
   "outputs": [
    {
     "data": {
      "text/plain": [
       "0    PC - Гарнитуры/Наушники\n",
       "1           Аксессуары - PS2\n",
       "2           Аксессуары - PS3\n",
       "3           Аксессуары - PS4\n",
       "4           Аксессуары - PSP\n",
       "Name: item_category_name, dtype: object"
      ]
     },
     "execution_count": 6,
     "metadata": {},
     "output_type": "execute_result"
    }
   ],
   "source": [
    "item_categories['item_category_name'].head()"
   ]
  },
  {
   "cell_type": "code",
   "execution_count": 7,
   "id": "fc21f4ed",
   "metadata": {
    "execution": {
     "iopub.execute_input": "2022-01-15T16:01:59.515410Z",
     "iopub.status.busy": "2022-01-15T16:01:59.514811Z",
     "iopub.status.idle": "2022-01-15T16:01:59.528979Z",
     "shell.execute_reply": "2022-01-15T16:01:59.528491Z",
     "shell.execute_reply.started": "2022-01-15T15:22:52.263773Z"
    },
    "papermill": {
     "duration": 0.039731,
     "end_time": "2022-01-15T16:01:59.529122",
     "exception": false,
     "start_time": "2022-01-15T16:01:59.489391",
     "status": "completed"
    },
    "tags": []
   },
   "outputs": [],
   "source": [
    "item_categories['split_name'] = item_categories['item_category_name'].str.split('-')\n",
    "item_categories['big_category_name'] =\\\n",
    "     item_categories['split_name'].map(lambda x: x[0].strip())\n",
    "item_categories['sub_category_name'] =\\\n",
    "     item_categories['split_name'].map(lambda x: x[1].strip() if len(x) > 1 else x[0].strip())\n",
    "\n",
    "item_categories.loc[item_categories['big_category_name'] == 'Чистые носители(штучные)', 'big_category_name'] = 'Чистые носители (шпиль)'\n",
    "\n",
    "# label encoding\n",
    "item_categories['big_category_id'] = LabelEncoder().fit_transform(item_categories['big_category_name'])\n",
    "item_categories['sub_category_id'] = LabelEncoder().fit_transform(item_categories['sub_category_name'])\n",
    "\n",
    "# データの整理\n",
    "item_categories = item_categories[['item_category_id', 'big_category_id', 'sub_category_id']]"
   ]
  },
  {
   "cell_type": "code",
   "execution_count": 8,
   "id": "e26c3220",
   "metadata": {
    "execution": {
     "iopub.execute_input": "2022-01-15T16:01:59.586594Z",
     "iopub.status.busy": "2022-01-15T16:01:59.585861Z",
     "iopub.status.idle": "2022-01-15T16:01:59.589301Z",
     "shell.execute_reply": "2022-01-15T16:01:59.588790Z",
     "shell.execute_reply.started": "2022-01-15T15:26:32.632652Z"
    },
    "papermill": {
     "duration": 0.037294,
     "end_time": "2022-01-15T16:01:59.589469",
     "exception": false,
     "start_time": "2022-01-15T16:01:59.552175",
     "status": "completed"
    },
    "tags": []
   },
   "outputs": [],
   "source": [
    "shops.loc[shops['shop_name'] == 'Сергиев Посад ТЦ \"7Я\"', 'shop_name'] = 'СергиевПосад ТЦ \"7Я\"'\n",
    "\n",
    "shops['city_name'] = shops['shop_name'].map(lambda x: x.split(' ')[0])\n",
    "shops.loc[shops['city_name'] == '!Якутск', 'city_name'] = 'Якутск'\n",
    "\n",
    "# label encoding\n",
    "shops['city_id'] = LabelEncoder().fit_transform(shops['city_name'])\n",
    "\n",
    "# データの整理\n",
    "shops = shops[['shop_id', 'city_id']]"
   ]
  },
  {
   "cell_type": "code",
   "execution_count": 9,
   "id": "5b7a52d2",
   "metadata": {
    "execution": {
     "iopub.execute_input": "2022-01-15T16:01:59.640795Z",
     "iopub.status.busy": "2022-01-15T16:01:59.640164Z",
     "iopub.status.idle": "2022-01-15T16:01:59.652048Z",
     "shell.execute_reply": "2022-01-15T16:01:59.651302Z",
     "shell.execute_reply.started": "2022-01-15T15:26:44.687870Z"
    },
    "papermill": {
     "duration": 0.039796,
     "end_time": "2022-01-15T16:01:59.652219",
     "exception": false,
     "start_time": "2022-01-15T16:01:59.612423",
     "status": "completed"
    },
    "tags": []
   },
   "outputs": [
    {
     "data": {
      "text/html": [
       "<div>\n",
       "<style scoped>\n",
       "    .dataframe tbody tr th:only-of-type {\n",
       "        vertical-align: middle;\n",
       "    }\n",
       "\n",
       "    .dataframe tbody tr th {\n",
       "        vertical-align: top;\n",
       "    }\n",
       "\n",
       "    .dataframe thead th {\n",
       "        text-align: right;\n",
       "    }\n",
       "</style>\n",
       "<table border=\"1\" class=\"dataframe\">\n",
       "  <thead>\n",
       "    <tr style=\"text-align: right;\">\n",
       "      <th></th>\n",
       "      <th>shop_id</th>\n",
       "      <th>city_id</th>\n",
       "    </tr>\n",
       "  </thead>\n",
       "  <tbody>\n",
       "    <tr>\n",
       "      <th>0</th>\n",
       "      <td>0</td>\n",
       "      <td>29</td>\n",
       "    </tr>\n",
       "    <tr>\n",
       "      <th>57</th>\n",
       "      <td>57</td>\n",
       "      <td>29</td>\n",
       "    </tr>\n",
       "  </tbody>\n",
       "</table>\n",
       "</div>"
      ],
      "text/plain": [
       "    shop_id  city_id\n",
       "0         0       29\n",
       "57       57       29"
      ]
     },
     "execution_count": 9,
     "metadata": {},
     "output_type": "execute_result"
    }
   ],
   "source": [
    "shops[(shops['shop_id'] == 0) | (shops['shop_id'] == 57)]"
   ]
  },
  {
   "cell_type": "code",
   "execution_count": 10,
   "id": "647efd90",
   "metadata": {
    "execution": {
     "iopub.execute_input": "2022-01-15T16:01:59.702771Z",
     "iopub.status.busy": "2022-01-15T16:01:59.698257Z",
     "iopub.status.idle": "2022-01-15T16:01:59.796339Z",
     "shell.execute_reply": "2022-01-15T16:01:59.795182Z",
     "shell.execute_reply.started": "2022-01-15T15:27:08.114267Z"
    },
    "papermill": {
     "duration": 0.1208,
     "end_time": "2022-01-15T16:01:59.796516",
     "exception": false,
     "start_time": "2022-01-15T16:01:59.675716",
     "status": "completed"
    },
    "tags": []
   },
   "outputs": [],
   "source": [
    "# shop_idの修正\n",
    "day_train_data.loc[day_train_data['shop_id'] == 0, 'shop_id'] = 57\n",
    "month_test_data.loc[month_test_data['shop_id'] == 0, 'shop_id'] = 57\n",
    "\n",
    "day_train_data.loc[day_train_data['shop_id'] == 1, 'shop_id'] = 58\n",
    "month_test_data.loc[month_test_data['shop_id'] == 1, 'shop_id'] = 58\n",
    "\n",
    "day_train_data.loc[day_train_data['shop_id'] == 10, 'shop_id'] = 11\n",
    "month_test_data.loc[month_test_data['shop_id'] == 10, 'shop_id'] = 11"
   ]
  },
  {
   "cell_type": "code",
   "execution_count": 11,
   "id": "3ee203fd",
   "metadata": {
    "execution": {
     "iopub.execute_input": "2022-01-15T16:01:59.847450Z",
     "iopub.status.busy": "2022-01-15T16:01:59.846296Z",
     "iopub.status.idle": "2022-01-15T16:02:00.394172Z",
     "shell.execute_reply": "2022-01-15T16:02:00.393601Z",
     "shell.execute_reply.started": "2022-01-15T15:27:16.823033Z"
    },
    "papermill": {
     "duration": 0.576832,
     "end_time": "2022-01-15T16:02:00.394316",
     "exception": false,
     "start_time": "2022-01-15T16:01:59.817484",
     "status": "completed"
    },
    "tags": []
   },
   "outputs": [],
   "source": [
    "# 外れ値の削除\n",
    "day_train_data.drop(day_train_data[day_train_data['item_price'] >= 100000].index, inplace=True)\n",
    "day_train_data.drop(day_train_data[day_train_data['item_cnt_day'] > 1000].index, inplace=True)\n",
    "\n",
    "# item_priceのエラー値を修正\n",
    "median = day_train_data[(day_train_data['date_block_num'] == 4) & (day_train_data['shop_id'] == 32) & (day_train_data['item_id'] == 2973) & (day_train_data['item_price'] >= 0)]['item_price'].median()\n",
    "day_train_data.loc[day_train_data['item_price'] < 0, 'item_price'] = median"
   ]
  },
  {
   "cell_type": "code",
   "execution_count": 12,
   "id": "4fbc6e8a",
   "metadata": {
    "execution": {
     "iopub.execute_input": "2022-01-15T16:02:00.445010Z",
     "iopub.status.busy": "2022-01-15T16:02:00.444223Z",
     "iopub.status.idle": "2022-01-15T16:02:24.621856Z",
     "shell.execute_reply": "2022-01-15T16:02:24.622383Z",
     "shell.execute_reply.started": "2022-01-15T15:27:28.482205Z"
    },
    "papermill": {
     "duration": 24.208221,
     "end_time": "2022-01-15T16:02:24.622566",
     "exception": false,
     "start_time": "2022-01-15T16:02:00.414345",
     "status": "completed"
    },
    "tags": []
   },
   "outputs": [],
   "source": [
    "# data_setの作成\n",
    "data_set = []\n",
    "cols = ['date_block_num', 'shop_id', 'item_id']\n",
    "for date_num in range(34):\n",
    "    sales = day_train_data[day_train_data['date_block_num'] == date_num]\n",
    "    data_set.append(np.array(list(product([date_num],\n",
    "                                          sales['shop_id'].unique(),\n",
    "                                          sales['item_id'].unique()))))\n",
    "\n",
    "data_set = pd.DataFrame(np.vstack(data_set), columns=cols)\n",
    "data_set.sort_values(cols, inplace=True)\n",
    "data_set = data_set.reset_index(drop=True)\n",
    "\n",
    "# month_test_dataのmerge\n",
    "month_test_data['date_block_num'] = 34\n",
    "month_test_data['date_block_num'] = month_test_data['date_block_num']\n",
    "month_test_data['shop_id'] = month_test_data['shop_id']\n",
    "month_test_data['item_id'] = month_test_data['item_id']\n",
    "\n",
    "data_set = pd.concat([data_set, month_test_data], ignore_index=True, sort=False, keys=cols)\n",
    "\n",
    "# data_set = data_set + shops [city_id]\n",
    "data_set = pd.merge(data_set, shops, on=['shop_id'], how='left')\n",
    "\n",
    "# data_set = data_set + items [item_category_id]\n",
    "data_set = pd.merge(data_set, items[['item_id', 'item_category_id']], on=['item_id'], how='left')\n",
    "\n",
    "# data_set = data_set + item_categories [big_category_id, sub_category_id]\n",
    "data_set = pd.merge(data_set, item_categories, on=['item_category_id'], how='left')"
   ]
  },
  {
   "cell_type": "code",
   "execution_count": 13,
   "id": "ef542462",
   "metadata": {
    "execution": {
     "iopub.execute_input": "2022-01-15T16:02:24.666923Z",
     "iopub.status.busy": "2022-01-15T16:02:24.666259Z",
     "iopub.status.idle": "2022-01-15T16:02:32.001005Z",
     "shell.execute_reply": "2022-01-15T16:02:32.000423Z",
     "shell.execute_reply.started": "2022-01-15T15:28:52.554153Z"
    },
    "papermill": {
     "duration": 7.359298,
     "end_time": "2022-01-15T16:02:32.001170",
     "exception": false,
     "start_time": "2022-01-15T16:02:24.641872",
     "status": "completed"
    },
    "tags": []
   },
   "outputs": [],
   "source": [
    "# item_sales_dayの作成\n",
    "day_train_data['item_sales_day'] = day_train_data['item_price'] * day_train_data['item_cnt_day']\n",
    "\n",
    "# item_cnt_monthの作成とmerge\n",
    "merge_data = day_train_data.groupby(['date_block_num', 'shop_id', 'item_id'], as_index=False)['item_cnt_day'].agg('sum').rename(columns={'item_cnt_day': 'item_cnt_month'})\n",
    "\n",
    "data_set = pd.merge(data_set, merge_data, on=cols, how='left')\n",
    "data_set['item_cnt_month'] = data_set['item_cnt_month'].fillna(0).clip(0, 20)"
   ]
  },
  {
   "cell_type": "code",
   "execution_count": 14,
   "id": "a33ca84a",
   "metadata": {
    "execution": {
     "iopub.execute_input": "2022-01-15T16:02:32.058713Z",
     "iopub.status.busy": "2022-01-15T16:02:32.058045Z",
     "iopub.status.idle": "2022-01-15T16:02:32.446537Z",
     "shell.execute_reply": "2022-01-15T16:02:32.447014Z",
     "shell.execute_reply.started": "2022-01-15T15:29:12.913462Z"
    },
    "papermill": {
     "duration": 0.422443,
     "end_time": "2022-01-15T16:02:32.447215",
     "exception": false,
     "start_time": "2022-01-15T16:02:32.024772",
     "status": "completed"
    },
    "tags": []
   },
   "outputs": [
    {
     "data": {
      "text/plain": [
       "<AxesSubplot:xlabel='date_block_num', ylabel='item_cnt_month'>"
      ]
     },
     "execution_count": 14,
     "metadata": {},
     "output_type": "execute_result"
    },
    {
     "data": {
      "image/png": "[encoded data removed]",
      "text/plain": [
       "<Figure size 1440x720 with 1 Axes>"
      ]
     },
     "metadata": {
      "needs_background": "light"
     },
     "output_type": "display_data"
    }
   ],
   "source": [
    "plot_data = day_train_data.groupby(['date_block_num'], as_index=False)['item_cnt_day'].agg('sum').rename(columns={'item_cnt_day': 'item_cnt_month'})\n",
    "\n",
    "plt.figure(figsize=(20, 10))\n",
    "sns.lineplot(data=plot_data, x='date_block_num', y='item_cnt_month')"
   ]
  },
  {
   "cell_type": "code",
   "execution_count": 15,
   "id": "927d1b15",
   "metadata": {
    "execution": {
     "iopub.execute_input": "2022-01-15T16:02:32.502305Z",
     "iopub.status.busy": "2022-01-15T16:02:32.501390Z",
     "iopub.status.idle": "2022-01-15T16:02:33.853914Z",
     "shell.execute_reply": "2022-01-15T16:02:33.854343Z",
     "shell.execute_reply.started": "2022-01-15T15:29:29.179482Z"
    },
    "papermill": {
     "duration": 1.382544,
     "end_time": "2022-01-15T16:02:33.854519",
     "exception": false,
     "start_time": "2022-01-15T16:02:32.471975",
     "status": "completed"
    },
    "tags": []
   },
   "outputs": [
    {
     "name": "stderr",
     "output_type": "stream",
     "text": [
      "/opt/conda/lib/python3.7/site-packages/ipykernel_launcher.py:2: FutureWarning: the 'freq'' keyword is deprecated, use 'period' instead\n",
      "  \n"
     ]
    },
    {
     "data": {
      "text/plain": [
       "Text(0.5, 1.0, 'residual')"
      ]
     },
     "execution_count": 15,
     "metadata": {},
     "output_type": "execute_result"
    },
    {
     "data": {
      "text/plain": [
       "<Figure size 432x288 with 0 Axes>"
      ]
     },
     "metadata": {},
     "output_type": "display_data"
    },
    {
     "data": {
      "image/png": "[encoded data removed]",
      "text/plain": [
       "<Figure size 1080x648 with 4 Axes>"
      ]
     },
     "metadata": {
      "needs_background": "light"
     },
     "output_type": "display_data"
    }
   ],
   "source": [
    "import statsmodels.api as sm\n",
    "res = sm.tsa.seasonal_decompose(plot_data['item_cnt_month'], freq=12)\n",
    "\n",
    "plt.subplots_adjust(hspace=0.3)\n",
    "plt.figure(figsize=(15, 9))\n",
    "plt.subplot(411)\n",
    "plt.plot(res.observed, lw=.6, c='darkblue')\n",
    "plt.title('observed')\n",
    "plt.subplot(412)\n",
    "plt.plot(res.trend, lw=.6, c='indianred')\n",
    "plt.title('trend')\n",
    "plt.subplot(413)\n",
    "plt.plot(res.seasonal, lw=.6, c='indianred')\n",
    "plt.title('seasonal')\n",
    "plt.subplot(414)\n",
    "plt.plot(res.resid, lw=.6, c='indianred')\n",
    "plt.title('residual')"
   ]
  },
  {
   "cell_type": "code",
   "execution_count": 16,
   "id": "d60fd884",
   "metadata": {
    "execution": {
     "iopub.execute_input": "2022-01-15T16:02:33.907395Z",
     "iopub.status.busy": "2022-01-15T16:02:33.906578Z",
     "iopub.status.idle": "2022-01-15T16:02:36.613345Z",
     "shell.execute_reply": "2022-01-15T16:02:36.612819Z",
     "shell.execute_reply.started": "2022-01-15T15:29:50.149382Z"
    },
    "papermill": {
     "duration": 2.734971,
     "end_time": "2022-01-15T16:02:36.613525",
     "exception": false,
     "start_time": "2022-01-15T16:02:33.878554",
     "status": "completed"
    },
    "tags": []
   },
   "outputs": [],
   "source": [
    "data_set.fillna(0, inplace=True)\n",
    "data_set['date_block_num'] = data_set['date_block_num'].astype(np.uint8)\n",
    "data_set['shop_id'] = data_set['shop_id'].astype(np.uint8)\n",
    "data_set['item_id'] = data_set['item_id'].astype(np.uint16)\n",
    "data_set['item_cnt_month'] = data_set['item_cnt_month'].astype(np.float16)\n",
    "data_set['ID'] = data_set['ID'].astype(np.uint32)\n",
    "data_set['city_id'] = data_set['city_id'].astype(np.uint8)\n",
    "data_set['item_category_id'] = data_set['item_category_id'].astype(np.uint8)\n",
    "data_set['big_category_id'] = data_set['big_category_id'].astype(np.uint8)\n",
    "data_set['sub_category_id'] = data_set['sub_category_id'].astype(np.uint8)"
   ]
  },
  {
   "cell_type": "code",
   "execution_count": 17,
   "id": "57bdb1c5",
   "metadata": {
    "execution": {
     "iopub.execute_input": "2022-01-15T16:02:36.672064Z",
     "iopub.status.busy": "2022-01-15T16:02:36.671448Z",
     "iopub.status.idle": "2022-01-15T16:02:36.674042Z",
     "shell.execute_reply": "2022-01-15T16:02:36.673582Z",
     "shell.execute_reply.started": "2022-01-15T15:30:10.146312Z"
    },
    "papermill": {
     "duration": 0.035286,
     "end_time": "2022-01-15T16:02:36.674199",
     "exception": false,
     "start_time": "2022-01-15T16:02:36.638913",
     "status": "completed"
    },
    "tags": []
   },
   "outputs": [],
   "source": [
    "def feature_lags(df, lags, lag_col):\n",
    "    tmp = df[['date_block_num', 'shop_id', 'item_id', lag_col]]\n",
    "    for lag in lags:\n",
    "        shifted = tmp.copy()\n",
    "\n",
    "        shifted.columns = ['date_block_num', 'shop_id', 'item_id', str(lag_col) + '_lag_' + str(lag)]\n",
    "\n",
    "        shifted['date_block_num'] += lag\n",
    "        shifted = shifted[shifted['date_block_num'] <= 34]\n",
    "\n",
    "        df = pd.merge(df, shifted, on=['date_block_num', 'shop_id', 'item_id'], how='left', copy=False)\n",
    "\n",
    "    return df"
   ]
  },
  {
   "cell_type": "code",
   "execution_count": 18,
   "id": "920c4179",
   "metadata": {
    "execution": {
     "iopub.execute_input": "2022-01-15T16:02:36.749884Z",
     "iopub.status.busy": "2022-01-15T16:02:36.748995Z",
     "iopub.status.idle": "2022-01-15T16:06:39.246160Z",
     "shell.execute_reply": "2022-01-15T16:06:39.244994Z",
     "shell.execute_reply.started": "2022-01-15T15:30:20.817682Z"
    },
    "papermill": {
     "duration": 242.547819,
     "end_time": "2022-01-15T16:06:39.246737",
     "exception": false,
     "start_time": "2022-01-15T16:02:36.698918",
     "status": "completed"
    },
    "tags": []
   },
   "outputs": [],
   "source": [
    "#target_lags\n",
    "data_set = feature_lags(df=data_set, lags=[1, 2, 3, 6, 12], lag_col='item_cnt_month')\n",
    "\n",
    "\n",
    "# date_avg_item_cnt\n",
    "date_avg_item_cnt = data_set.groupby(['date_block_num'], as_index=False)['item_cnt_month'].agg('mean').rename(columns={'item_cnt_month': 'date_avg_item_cnt'})\n",
    "\n",
    "data_set = pd.merge(data_set, date_avg_item_cnt, on=['date_block_num'], how='left')\n",
    "\n",
    "data_set = feature_lags(df=data_set, lags=[1], lag_col='date_avg_item_cnt')\n",
    "data_set.drop(['date_avg_item_cnt'], axis=1, inplace=True)\n",
    "\n",
    "\n",
    "# date_item_avg_item_cnt\n",
    "date_item_avg_item_cnt = data_set.groupby(['date_block_num', 'item_id'], as_index=False)['item_cnt_month'].agg('mean').rename(columns={'item_cnt_month': 'date_item_avg_item_cnt'})\n",
    "\n",
    "data_set = pd.merge(data_set, date_item_avg_item_cnt, on=['date_block_num', 'item_id'], how='left')\n",
    "\n",
    "data_set = feature_lags(df=data_set, lags=[1], lag_col='date_item_avg_item_cnt')\n",
    "data_set.drop(['date_item_avg_item_cnt'], axis=1, inplace=True)\n",
    "\n",
    "\n",
    "# date_shop_avg_item_cnt\n",
    "date_shop_avg_item_cnt = data_set.groupby(['date_block_num', 'shop_id'], as_index=False)['item_cnt_month'].agg('mean').rename(columns={'item_cnt_month': 'date_shop_avg_item_cnt'})\n",
    "\n",
    "data_set = pd.merge(data_set, date_shop_avg_item_cnt, on=['date_block_num', 'shop_id'], how='left')\n",
    "\n",
    "data_set = feature_lags(df=data_set, lags=[1], lag_col='date_shop_avg_item_cnt')\n",
    "data_set.drop(['date_shop_avg_item_cnt'], axis=1, inplace=True)\n",
    "\n",
    "\n",
    "# date_category_avg_item_cnt\n",
    "date_category_avg_item_cnt = data_set.groupby(['date_block_num', 'item_category_id'], as_index=False)['item_cnt_month'].agg('mean').rename(columns={'item_cnt_month': 'date_category_avg_item_cnt'})\n",
    "\n",
    "data_set = pd.merge(data_set, date_category_avg_item_cnt, on=['date_block_num', 'item_category_id'], how='left')\n",
    "\n",
    "data_set = feature_lags(df=data_set, lags=[1], lag_col='date_category_avg_item_cnt')\n",
    "data_set.drop(['date_category_avg_item_cnt'], axis=1, inplace=True)\n",
    "\n",
    "\n",
    "# date_shop_category_avg_item_cnt\n",
    "date_shop_category_avg_item_cnt = data_set.groupby(['date_block_num', 'shop_id', 'item_category_id'], as_index=False)['item_cnt_month'].agg('mean').rename(columns={'item_cnt_month': 'date_shop_category_avg_item_cnt'})\n",
    "\n",
    "data_set = pd.merge(data_set, date_shop_category_avg_item_cnt, on=['date_block_num', 'shop_id', 'item_category_id'], how='left')\n",
    "\n",
    "data_set = feature_lags(df=data_set, lags=[1], lag_col='date_shop_category_avg_item_cnt')\n",
    "data_set.drop(['date_shop_category_avg_item_cnt'], axis=1, inplace=True)\n",
    "\n",
    "\n",
    "# date_shop_bigcat_avg_item_cnt\n",
    "date_shop_bigcat_avg_item_cnt = data_set.groupby(['date_block_num', 'shop_id', 'big_category_id'], as_index=False)['item_cnt_month'].agg('mean').rename(columns={'item_cnt_month': 'date_shop_bigcat_avg_item_cnt'})\n",
    "\n",
    "data_set = pd.merge(data_set, date_shop_bigcat_avg_item_cnt, on=['date_block_num', 'shop_id', 'big_category_id'], how='left')\n",
    "\n",
    "data_set = feature_lags(df=data_set, lags=[1], lag_col='date_shop_bigcat_avg_item_cnt')\n",
    "data_set.drop(['date_shop_bigcat_avg_item_cnt'], axis=1, inplace=True)\n",
    "\n",
    "\n",
    "# date_shop_subcat_avg_item_cnt\n",
    "date_shop_subcat_avg_item_cnt = data_set.groupby(['date_block_num', 'shop_id', 'sub_category_id'], as_index=False)['item_cnt_month'].agg('mean').rename(columns={'item_cnt_month': 'date_shop_subcat_avg_item_cnt'})\n",
    "\n",
    "data_set = pd.merge(data_set, date_shop_subcat_avg_item_cnt, on=['date_block_num', 'shop_id', 'sub_category_id'], how='left')\n",
    "\n",
    "data_set = feature_lags(df=data_set, lags=[1], lag_col='date_shop_subcat_avg_item_cnt')\n",
    "data_set.drop(['date_shop_subcat_avg_item_cnt'], axis=1, inplace=True)\n",
    "\n",
    "\n",
    "# date_bigcat_avg_item_cnt\n",
    "date_bigcat_avg_item_cnt = data_set.groupby(['date_block_num', 'big_category_id'], as_index=False)['item_cnt_month'].agg('mean').rename(columns={'item_cnt_month': 'date_bigcat_avg_item_cnt'})\n",
    "\n",
    "data_set = pd.merge(data_set, date_bigcat_avg_item_cnt, on=['date_block_num', 'big_category_id'], how='left')\n",
    "\n",
    "data_set = feature_lags(df=data_set, lags=[1], lag_col='date_bigcat_avg_item_cnt')\n",
    "data_set.drop(['date_bigcat_avg_item_cnt'], axis=1, inplace=True)\n",
    "\n",
    "\n",
    "# date_subcat_avg_item_cnt\n",
    "date_subcat_avg_item_cnt = data_set.groupby(['date_block_num', 'sub_category_id'], as_index=False)['item_cnt_month'].agg('mean').rename(columns={'item_cnt_month': 'date_subcat_avg_item_cnt'})\n",
    "\n",
    "data_set = pd.merge(data_set, date_subcat_avg_item_cnt, on=['date_block_num', 'sub_category_id'], how='left')\n",
    "\n",
    "data_set = feature_lags(df=data_set, lags=[1], lag_col='date_subcat_avg_item_cnt')\n",
    "data_set.drop(['date_subcat_avg_item_cnt'], axis=1, inplace=True)\n",
    "\n",
    "\n",
    "# date_city_avg_item_cnt\n",
    "date_city_avg_item_cnt = data_set.groupby(['date_block_num', 'city_id'], as_index=False)['item_cnt_month'].agg('mean').rename(columns={'item_cnt_month': 'date_city_avg_item_cnt'})\n",
    "\n",
    "data_set = pd.merge(data_set, date_city_avg_item_cnt, on=['date_block_num', 'city_id'], how='left')\n",
    "\n",
    "data_set = feature_lags(df=data_set, lags=[1], lag_col='date_city_avg_item_cnt')\n",
    "data_set.drop(['date_city_avg_item_cnt'], axis=1, inplace=True)\n",
    "\n",
    "\n",
    "# date_item_city_avg_item_cnt\n",
    "date_item_city_avg_item_cnt = data_set.groupby(['date_block_num', 'item_id', 'city_id'], as_index=False)['item_cnt_month'].agg('mean').rename(columns={'item_cnt_month': 'date_item_city_avg_item_cnt'})\n",
    "\n",
    "data_set = pd.merge(data_set, date_item_city_avg_item_cnt, on=['date_block_num', 'item_id', 'city_id'], how='left')\n",
    "\n",
    "data_set = feature_lags(df=data_set, lags=[1], lag_col='date_item_city_avg_item_cnt')\n",
    "data_set.drop(['date_item_city_avg_item_cnt'], axis=1, inplace=True)"
   ]
  },
  {
   "cell_type": "code",
   "execution_count": 19,
   "id": "0afd3d8a",
   "metadata": {
    "execution": {
     "iopub.execute_input": "2022-01-15T16:06:39.331041Z",
     "iopub.status.busy": "2022-01-15T16:06:39.330100Z",
     "iopub.status.idle": "2022-01-15T16:10:37.151057Z",
     "shell.execute_reply": "2022-01-15T16:10:37.150221Z",
     "shell.execute_reply.started": "2022-01-15T15:35:32.476129Z"
    },
    "papermill": {
     "duration": 237.87471,
     "end_time": "2022-01-15T16:10:37.151269",
     "exception": false,
     "start_time": "2022-01-15T16:06:39.276559",
     "status": "completed"
    },
    "tags": []
   },
   "outputs": [],
   "source": [
    "# item_avg_item_price\n",
    "item_avg_item_price = day_train_data.groupby(['item_id'], as_index=False)['item_price'].agg('mean').rename(columns={'item_price': 'item_avg_item_price'})\n",
    "\n",
    "data_set = pd.merge(data_set, item_avg_item_price, on=['item_id'], how='left')\n",
    "\n",
    "\n",
    "# date_item_avg_item_price\n",
    "date_item_avg_item_price = day_train_data.groupby(['date_block_num', 'item_id'], as_index=False)['item_price'].agg('mean').rename(columns={'item_price': 'date_item_avg_item_price'})\n",
    "\n",
    "data_set = pd.merge(data_set, date_item_avg_item_price, on=['date_block_num', 'item_id'], how='left')\n",
    "\n",
    "\n",
    "lags = [1, 2, 3, 4, 5, 6]\n",
    "data_set = feature_lags(df=data_set, lags=lags, lag_col='date_item_avg_item_price')\n",
    "\n",
    "for lag in lags:\n",
    "    data_set['delta_price_lag_' + str(lag)]  = (data_set['date_item_avg_item_price_lag_' + str(lag)] - data_set['item_avg_item_price'] / data_set['item_avg_item_price'])\n",
    "\n",
    "def select_trend(row):\n",
    "    for lag in lags:\n",
    "        if row['delta_price_lag_' + str(lag)]:\n",
    "            return row['delta_price_lag_' + str(lag)]\n",
    "    return 0    \n",
    "\n",
    "data_set['delta_price_lag'] = data_set.apply(select_trend, axis=1)\n",
    "data_set['delta_price_lag'].fillna(0, inplace=True)\n",
    "\n",
    "\n",
    "# 使わないデータの削除\n",
    "features_to_drop = ['item_avg_item_price', 'date_item_avg_item_price']\n",
    "for lag in lags:\n",
    "    features_to_drop += ['date_item_avg_item_price_lag_' + str(lag)]\n",
    "    features_to_drop += ['delta_price_lag_' + str(lag)]\n",
    "\n",
    "data_set.drop(features_to_drop, axis=1, inplace=True)"
   ]
  },
  {
   "cell_type": "code",
   "execution_count": 20,
   "id": "b80eca31",
   "metadata": {
    "execution": {
     "iopub.execute_input": "2022-01-15T16:10:37.230689Z",
     "iopub.status.busy": "2022-01-15T16:10:37.215324Z",
     "iopub.status.idle": "2022-01-15T16:10:56.200863Z",
     "shell.execute_reply": "2022-01-15T16:10:56.200063Z",
     "shell.execute_reply.started": "2022-01-15T15:39:55.928666Z"
    },
    "papermill": {
     "duration": 19.023125,
     "end_time": "2022-01-15T16:10:56.201019",
     "exception": false,
     "start_time": "2022-01-15T16:10:37.177894",
     "status": "completed"
    },
    "tags": []
   },
   "outputs": [],
   "source": [
    "date_shop_sales = day_train_data.groupby(['date_block_num', 'shop_id'], as_index=False)['item_sales_day'].agg('sum').rename(columns={'item_sales_day': 'date_shop_sales'})\n",
    "\n",
    "data_set = pd.merge(data_set, date_shop_sales, on=['date_block_num', 'shop_id'], how='left')\n",
    "\n",
    "shop_avg_sales = day_train_data.groupby(['shop_id'], as_index=False)['item_sales_day'].agg('mean').rename(columns={'item_sales_day': 'shop_avg_sales'})\n",
    "\n",
    "data_set = pd.merge(data_set, shop_avg_sales, on=['shop_id'], how='left')\n",
    "\n",
    "data_set['delta_sales'] = (data_set['date_shop_sales'] - data_set['shop_avg_sales']) / data_set['shop_avg_sales']\n",
    "data_set = feature_lags(df=data_set, lags=[1], lag_col='delta_sales')\n",
    "data_set.drop(['date_shop_sales', 'shop_avg_sales', 'delta_sales'], axis=1, inplace=True)"
   ]
  },
  {
   "cell_type": "code",
   "execution_count": 21,
   "id": "bcc7e87b",
   "metadata": {
    "execution": {
     "iopub.execute_input": "2022-01-15T16:10:56.255231Z",
     "iopub.status.busy": "2022-01-15T16:10:56.254572Z",
     "iopub.status.idle": "2022-01-15T16:10:57.147114Z",
     "shell.execute_reply": "2022-01-15T16:10:57.146607Z",
     "shell.execute_reply.started": "2022-01-15T15:40:18.531608Z"
    },
    "papermill": {
     "duration": 0.922437,
     "end_time": "2022-01-15T16:10:57.147284",
     "exception": false,
     "start_time": "2022-01-15T16:10:56.224847",
     "status": "completed"
    },
    "tags": []
   },
   "outputs": [],
   "source": [
    "data_set['month'] = data_set['date_block_num'] % 12\n",
    "\n",
    "days = pd.Series([31,28,31,30,31,30,31,31,30,31,30,31])\n",
    "data_set['day'] = data_set['month'].map(days)\n",
    "data_set['day'] = data_set['day'].astype(np.uint8)"
   ]
  },
  {
   "cell_type": "code",
   "execution_count": 22,
   "id": "20c97ab6",
   "metadata": {
    "execution": {
     "iopub.execute_input": "2022-01-15T16:10:57.200126Z",
     "iopub.status.busy": "2022-01-15T16:10:57.199514Z",
     "iopub.status.idle": "2022-01-15T16:10:58.564829Z",
     "shell.execute_reply": "2022-01-15T16:10:58.564281Z",
     "shell.execute_reply.started": "2022-01-15T15:40:28.557311Z"
    },
    "papermill": {
     "duration": 1.392713,
     "end_time": "2022-01-15T16:10:58.564970",
     "exception": false,
     "start_time": "2022-01-15T16:10:57.172257",
     "status": "completed"
    },
    "tags": []
   },
   "outputs": [],
   "source": [
    "data_set.fillna(0, inplace=True)"
   ]
  },
  {
   "cell_type": "code",
   "execution_count": 23,
   "id": "20590789",
   "metadata": {
    "execution": {
     "iopub.execute_input": "2022-01-15T16:10:58.622430Z",
     "iopub.status.busy": "2022-01-15T16:10:58.621742Z",
     "iopub.status.idle": "2022-01-15T16:10:58.641359Z",
     "shell.execute_reply": "2022-01-15T16:10:58.641901Z",
     "shell.execute_reply.started": "2022-01-15T15:40:46.014101Z"
    },
    "papermill": {
     "duration": 0.051031,
     "end_time": "2022-01-15T16:10:58.642122",
     "exception": false,
     "start_time": "2022-01-15T16:10:58.591091",
     "status": "completed"
    },
    "tags": []
   },
   "outputs": [
    {
     "name": "stdout",
     "output_type": "stream",
     "text": [
      "<class 'pandas.core.frame.DataFrame'>\n",
      "Int64Index: 11128004 entries, 0 to 11128003\n",
      "Data columns (total 29 columns):\n",
      " #   Column                                 Dtype  \n",
      "---  ------                                 -----  \n",
      " 0   date_block_num                         uint8  \n",
      " 1   shop_id                                uint8  \n",
      " 2   item_id                                uint16 \n",
      " 3   ID                                     uint32 \n",
      " 4   city_id                                uint8  \n",
      " 5   item_category_id                       uint8  \n",
      " 6   big_category_id                        uint8  \n",
      " 7   sub_category_id                        uint8  \n",
      " 8   item_cnt_month                         float16\n",
      " 9   item_cnt_month_lag_1                   float16\n",
      " 10  item_cnt_month_lag_2                   float16\n",
      " 11  item_cnt_month_lag_3                   float16\n",
      " 12  item_cnt_month_lag_6                   float16\n",
      " 13  item_cnt_month_lag_12                  float16\n",
      " 14  date_avg_item_cnt_lag_1                float16\n",
      " 15  date_item_avg_item_cnt_lag_1           float16\n",
      " 16  date_shop_avg_item_cnt_lag_1           float16\n",
      " 17  date_category_avg_item_cnt_lag_1       float16\n",
      " 18  date_shop_category_avg_item_cnt_lag_1  float16\n",
      " 19  date_shop_bigcat_avg_item_cnt_lag_1    float16\n",
      " 20  date_shop_subcat_avg_item_cnt_lag_1    float16\n",
      " 21  date_bigcat_avg_item_cnt_lag_1         float16\n",
      " 22  date_subcat_avg_item_cnt_lag_1         float16\n",
      " 23  date_city_avg_item_cnt_lag_1           float16\n",
      " 24  date_item_city_avg_item_cnt_lag_1      float16\n",
      " 25  delta_price_lag                        float64\n",
      " 26  delta_sales_lag_1                      float64\n",
      " 27  month                                  uint8  \n",
      " 28  day                                    uint8  \n",
      "dtypes: float16(17), float64(2), uint16(1), uint32(1), uint8(8)\n",
      "memory usage: 764.1 MB\n"
     ]
    }
   ],
   "source": [
    "data_set.info()\n",
    "\n"
   ]
  },
  {
   "cell_type": "code",
   "execution_count": 24,
   "id": "c3a17fcb",
   "metadata": {
    "execution": {
     "iopub.execute_input": "2022-01-15T16:10:58.696830Z",
     "iopub.status.busy": "2022-01-15T16:10:58.696165Z",
     "iopub.status.idle": "2022-01-15T16:11:04.108802Z",
     "shell.execute_reply": "2022-01-15T16:11:04.108251Z",
     "shell.execute_reply.started": "2022-01-15T15:54:39.166615Z"
    },
    "papermill": {
     "duration": 5.43995,
     "end_time": "2022-01-15T16:11:04.108950",
     "exception": false,
     "start_time": "2022-01-15T16:10:58.669000",
     "status": "completed"
    },
    "tags": []
   },
   "outputs": [],
   "source": [
    "target_col = 'item_cnt_month'\n",
    "exclude_cols = ['ID', target_col]\n",
    "\n",
    "feature_cols = []\n",
    "for col in data_set.columns:\n",
    "    if col not in exclude_cols:\n",
    "        feature_cols.append(col)\n",
    "\n",
    "x_train = data_set[data_set['date_block_num'] <= 32][feature_cols]\n",
    "y_train = data_set[data_set['date_block_num'] <= 32][target_col]\n",
    "x_val = data_set[data_set['date_block_num'] == 33][feature_cols]\n",
    "y_val = data_set[data_set['date_block_num'] == 33][target_col]\n",
    "x_test = data_set[feature_cols]"
   ]
  },
  {
   "cell_type": "code",
   "execution_count": 25,
   "id": "aec1071c",
   "metadata": {
    "execution": {
     "iopub.execute_input": "2022-01-15T16:11:04.170740Z",
     "iopub.status.busy": "2022-01-15T16:11:04.169292Z",
     "iopub.status.idle": "2022-01-15T16:12:00.394105Z",
     "shell.execute_reply": "2022-01-15T16:12:00.394809Z",
     "shell.execute_reply.started": "2022-01-15T15:56:35.698417Z"
    },
    "papermill": {
     "duration": 56.259778,
     "end_time": "2022-01-15T16:12:00.395370",
     "exception": false,
     "start_time": "2022-01-15T16:11:04.135592",
     "status": "completed"
    },
    "tags": []
   },
   "outputs": [
    {
     "name": "stdout",
     "output_type": "stream",
     "text": [
      "[1]\tvalid_0's rmse: 1.10295\tvalid_0's l2: 1.21651\n",
      "[2]\tvalid_0's rmse: 1.07663\tvalid_0's l2: 1.15914\n",
      "[3]\tvalid_0's rmse: 1.05338\tvalid_0's l2: 1.10961\n",
      "[4]\tvalid_0's rmse: 1.03404\tvalid_0's l2: 1.06924\n",
      "[5]\tvalid_0's rmse: 1.02067\tvalid_0's l2: 1.04177\n",
      "[6]\tvalid_0's rmse: 1.00835\tvalid_0's l2: 1.01677\n",
      "[7]\tvalid_0's rmse: 0.998716\tvalid_0's l2: 0.997434\n",
      "[8]\tvalid_0's rmse: 0.990723\tvalid_0's l2: 0.981532\n",
      "[9]\tvalid_0's rmse: 0.983937\tvalid_0's l2: 0.968132\n",
      "[10]\tvalid_0's rmse: 0.978742\tvalid_0's l2: 0.957937\n",
      "[11]\tvalid_0's rmse: 0.974427\tvalid_0's l2: 0.949509\n",
      "[12]\tvalid_0's rmse: 0.970672\tvalid_0's l2: 0.942204\n",
      "[13]\tvalid_0's rmse: 0.96759\tvalid_0's l2: 0.936231\n",
      "[14]\tvalid_0's rmse: 0.964357\tvalid_0's l2: 0.929984\n",
      "[15]\tvalid_0's rmse: 0.962204\tvalid_0's l2: 0.925836\n",
      "[16]\tvalid_0's rmse: 0.960426\tvalid_0's l2: 0.922418\n",
      "[17]\tvalid_0's rmse: 0.958709\tvalid_0's l2: 0.919122\n",
      "[18]\tvalid_0's rmse: 0.957247\tvalid_0's l2: 0.916322\n",
      "[19]\tvalid_0's rmse: 0.95599\tvalid_0's l2: 0.913917\n",
      "[20]\tvalid_0's rmse: 0.954682\tvalid_0's l2: 0.911418\n",
      "[21]\tvalid_0's rmse: 0.953577\tvalid_0's l2: 0.90931\n",
      "[22]\tvalid_0's rmse: 0.952699\tvalid_0's l2: 0.907635\n",
      "[23]\tvalid_0's rmse: 0.951887\tvalid_0's l2: 0.906089\n",
      "[24]\tvalid_0's rmse: 0.951264\tvalid_0's l2: 0.904904\n",
      "[25]\tvalid_0's rmse: 0.950775\tvalid_0's l2: 0.903973\n",
      "[26]\tvalid_0's rmse: 0.950362\tvalid_0's l2: 0.903188\n",
      "[27]\tvalid_0's rmse: 0.95012\tvalid_0's l2: 0.902729\n",
      "[28]\tvalid_0's rmse: 0.949752\tvalid_0's l2: 0.902028\n",
      "[29]\tvalid_0's rmse: 0.949271\tvalid_0's l2: 0.901116\n",
      "[30]\tvalid_0's rmse: 0.949377\tvalid_0's l2: 0.901317\n",
      "[31]\tvalid_0's rmse: 0.948997\tvalid_0's l2: 0.900596\n",
      "[32]\tvalid_0's rmse: 0.949051\tvalid_0's l2: 0.900697\n",
      "[33]\tvalid_0's rmse: 0.949366\tvalid_0's l2: 0.901297\n",
      "[34]\tvalid_0's rmse: 0.949237\tvalid_0's l2: 0.90105\n",
      "[35]\tvalid_0's rmse: 0.948836\tvalid_0's l2: 0.90029\n",
      "[36]\tvalid_0's rmse: 0.948773\tvalid_0's l2: 0.90017\n",
      "[37]\tvalid_0's rmse: 0.948961\tvalid_0's l2: 0.900526\n",
      "[38]\tvalid_0's rmse: 0.948585\tvalid_0's l2: 0.899814\n",
      "[39]\tvalid_0's rmse: 0.948333\tvalid_0's l2: 0.899336\n",
      "[40]\tvalid_0's rmse: 0.948192\tvalid_0's l2: 0.899068\n",
      "[41]\tvalid_0's rmse: 0.948082\tvalid_0's l2: 0.898859\n",
      "[42]\tvalid_0's rmse: 0.947912\tvalid_0's l2: 0.898536\n",
      "[43]\tvalid_0's rmse: 0.949525\tvalid_0's l2: 0.901597\n",
      "[44]\tvalid_0's rmse: 0.949438\tvalid_0's l2: 0.901432\n",
      "[45]\tvalid_0's rmse: 0.949384\tvalid_0's l2: 0.901329\n",
      "[46]\tvalid_0's rmse: 0.949286\tvalid_0's l2: 0.901143\n",
      "[47]\tvalid_0's rmse: 0.948702\tvalid_0's l2: 0.900036\n",
      "[48]\tvalid_0's rmse: 0.948807\tvalid_0's l2: 0.900234\n",
      "[49]\tvalid_0's rmse: 0.949229\tvalid_0's l2: 0.901035\n",
      "[50]\tvalid_0's rmse: 0.949119\tvalid_0's l2: 0.900827\n",
      "[51]\tvalid_0's rmse: 0.948971\tvalid_0's l2: 0.900547\n",
      "[52]\tvalid_0's rmse: 0.949117\tvalid_0's l2: 0.900822\n",
      "[53]\tvalid_0's rmse: 0.948924\tvalid_0's l2: 0.900457\n",
      "[54]\tvalid_0's rmse: 0.947979\tvalid_0's l2: 0.898665\n",
      "[55]\tvalid_0's rmse: 0.947934\tvalid_0's l2: 0.898579\n",
      "[56]\tvalid_0's rmse: 0.947755\tvalid_0's l2: 0.898239\n",
      "[57]\tvalid_0's rmse: 0.947563\tvalid_0's l2: 0.897875\n",
      "[58]\tvalid_0's rmse: 0.947547\tvalid_0's l2: 0.897846\n",
      "[59]\tvalid_0's rmse: 0.947467\tvalid_0's l2: 0.897694\n",
      "[60]\tvalid_0's rmse: 0.946611\tvalid_0's l2: 0.896072\n",
      "[61]\tvalid_0's rmse: 0.946753\tvalid_0's l2: 0.896342\n",
      "[62]\tvalid_0's rmse: 0.946974\tvalid_0's l2: 0.89676\n",
      "[63]\tvalid_0's rmse: 0.951635\tvalid_0's l2: 0.90561\n",
      "[64]\tvalid_0's rmse: 0.951497\tvalid_0's l2: 0.905346\n",
      "[65]\tvalid_0's rmse: 0.95139\tvalid_0's l2: 0.905143\n",
      "[66]\tvalid_0's rmse: 0.951431\tvalid_0's l2: 0.905221\n",
      "[67]\tvalid_0's rmse: 0.951253\tvalid_0's l2: 0.904882\n",
      "[68]\tvalid_0's rmse: 0.950808\tvalid_0's l2: 0.904037\n",
      "[69]\tvalid_0's rmse: 0.950736\tvalid_0's l2: 0.903898\n",
      "[70]\tvalid_0's rmse: 0.950621\tvalid_0's l2: 0.90368\n",
      "[71]\tvalid_0's rmse: 0.950742\tvalid_0's l2: 0.903911\n",
      "[72]\tvalid_0's rmse: 0.950998\tvalid_0's l2: 0.904396\n",
      "[73]\tvalid_0's rmse: 0.950916\tvalid_0's l2: 0.904241\n",
      "[74]\tvalid_0's rmse: 0.951023\tvalid_0's l2: 0.904444\n",
      "[75]\tvalid_0's rmse: 0.950921\tvalid_0's l2: 0.904252\n",
      "[76]\tvalid_0's rmse: 0.950723\tvalid_0's l2: 0.903874\n",
      "[77]\tvalid_0's rmse: 0.950305\tvalid_0's l2: 0.903079\n",
      "[78]\tvalid_0's rmse: 0.949993\tvalid_0's l2: 0.902486\n",
      "[79]\tvalid_0's rmse: 0.950393\tvalid_0's l2: 0.903247\n",
      "[80]\tvalid_0's rmse: 0.95101\tvalid_0's l2: 0.904419\n",
      "[81]\tvalid_0's rmse: 0.950699\tvalid_0's l2: 0.903829\n",
      "[82]\tvalid_0's rmse: 0.950574\tvalid_0's l2: 0.903592\n",
      "[83]\tvalid_0's rmse: 0.950276\tvalid_0's l2: 0.903024\n",
      "[84]\tvalid_0's rmse: 0.9503\tvalid_0's l2: 0.903069\n",
      "[85]\tvalid_0's rmse: 0.950458\tvalid_0's l2: 0.903371\n",
      "[86]\tvalid_0's rmse: 0.95037\tvalid_0's l2: 0.903203\n",
      "[87]\tvalid_0's rmse: 0.95042\tvalid_0's l2: 0.903298\n",
      "[88]\tvalid_0's rmse: 0.951237\tvalid_0's l2: 0.904852\n",
      "[89]\tvalid_0's rmse: 0.951177\tvalid_0's l2: 0.904738\n",
      "[90]\tvalid_0's rmse: 0.951093\tvalid_0's l2: 0.904579\n",
      "[91]\tvalid_0's rmse: 0.950961\tvalid_0's l2: 0.904326\n",
      "[92]\tvalid_0's rmse: 0.950862\tvalid_0's l2: 0.904139\n",
      "[93]\tvalid_0's rmse: 0.950805\tvalid_0's l2: 0.90403\n",
      "[94]\tvalid_0's rmse: 0.950728\tvalid_0's l2: 0.903884\n",
      "[95]\tvalid_0's rmse: 0.950725\tvalid_0's l2: 0.903877\n",
      "[96]\tvalid_0's rmse: 0.950797\tvalid_0's l2: 0.904015\n",
      "[97]\tvalid_0's rmse: 0.950687\tvalid_0's l2: 0.903806\n",
      "[98]\tvalid_0's rmse: 0.951015\tvalid_0's l2: 0.904429\n",
      "[99]\tvalid_0's rmse: 0.950841\tvalid_0's l2: 0.904099\n",
      "[100]\tvalid_0's rmse: 0.950856\tvalid_0's l2: 0.904127\n"
     ]
    },
    {
     "data": {
      "text/plain": [
       "LGBMRegressor()"
      ]
     },
     "execution_count": 25,
     "metadata": {},
     "output_type": "execute_result"
    }
   ],
   "source": [
    "\n",
    "gbm = LGBMRegressor(n_jobs=-1)\n",
    "gbm.fit(x_train, y_train,\n",
    "       eval_metric='rmse',\n",
    "       eval_set=(x_val, y_val))\n",
    "\n",
    "# rmse: 0.948226\n"
   ]
  },
  {
   "cell_type": "code",
   "execution_count": 26,
   "id": "5f797d07",
   "metadata": {
    "execution": {
     "iopub.execute_input": "2022-01-15T16:12:00.505780Z",
     "iopub.status.busy": "2022-01-15T16:12:00.504954Z",
     "iopub.status.idle": "2022-01-15T16:12:41.128644Z",
     "shell.execute_reply": "2022-01-15T16:12:41.128024Z",
     "shell.execute_reply.started": "2022-01-15T15:58:41.938943Z"
    },
    "papermill": {
     "duration": 40.681928,
     "end_time": "2022-01-15T16:12:41.128818",
     "exception": false,
     "start_time": "2022-01-15T16:12:00.446890",
     "status": "completed"
    },
    "tags": []
   },
   "outputs": [
    {
     "name": "stderr",
     "output_type": "stream",
     "text": [
      "/opt/conda/lib/python3.7/site-packages/lightgbm/sklearn.py:726: UserWarning: 'early_stopping_rounds' argument is deprecated and will be removed in a future release of LightGBM. Pass 'early_stopping()' callback via 'callbacks' argument instead.\n",
      "  _log_warning(\"'early_stopping_rounds' argument is deprecated and will be removed in a future release of LightGBM. \"\n",
      "/opt/conda/lib/python3.7/site-packages/lightgbm/sklearn.py:736: UserWarning: 'verbose' argument is deprecated and will be removed in a future release of LightGBM. Pass 'log_evaluation()' callback via 'callbacks' argument instead.\n",
      "  _log_warning(\"'verbose' argument is deprecated and will be removed in a future release of LightGBM. \"\n"
     ]
    },
    {
     "name": "stdout",
     "output_type": "stream",
     "text": [
      "[1]\tvalid_0's rmse: 1.10295\tvalid_0's l2: 1.21651\n",
      "[2]\tvalid_0's rmse: 1.07663\tvalid_0's l2: 1.15914\n",
      "[3]\tvalid_0's rmse: 1.05338\tvalid_0's l2: 1.10961\n",
      "[4]\tvalid_0's rmse: 1.03404\tvalid_0's l2: 1.06924\n",
      "[5]\tvalid_0's rmse: 1.02067\tvalid_0's l2: 1.04177\n",
      "[6]\tvalid_0's rmse: 1.00824\tvalid_0's l2: 1.01654\n",
      "[7]\tvalid_0's rmse: 0.997778\tvalid_0's l2: 0.995562\n",
      "[8]\tvalid_0's rmse: 0.989697\tvalid_0's l2: 0.979499\n",
      "[9]\tvalid_0's rmse: 0.982925\tvalid_0's l2: 0.966141\n",
      "[10]\tvalid_0's rmse: 0.976971\tvalid_0's l2: 0.954473\n",
      "[11]\tvalid_0's rmse: 0.972651\tvalid_0's l2: 0.94605\n",
      "[12]\tvalid_0's rmse: 0.968837\tvalid_0's l2: 0.938644\n",
      "[13]\tvalid_0's rmse: 0.966244\tvalid_0's l2: 0.933628\n",
      "[14]\tvalid_0's rmse: 0.964048\tvalid_0's l2: 0.929388\n",
      "[15]\tvalid_0's rmse: 0.961908\tvalid_0's l2: 0.925267\n",
      "[16]\tvalid_0's rmse: 0.960008\tvalid_0's l2: 0.921616\n",
      "[17]\tvalid_0's rmse: 0.958874\tvalid_0's l2: 0.919439\n",
      "[18]\tvalid_0's rmse: 0.9574\tvalid_0's l2: 0.916614\n",
      "[19]\tvalid_0's rmse: 0.955958\tvalid_0's l2: 0.913856\n",
      "[20]\tvalid_0's rmse: 0.954951\tvalid_0's l2: 0.911932\n",
      "[21]\tvalid_0's rmse: 0.953891\tvalid_0's l2: 0.909909\n",
      "[22]\tvalid_0's rmse: 0.952719\tvalid_0's l2: 0.907673\n",
      "[23]\tvalid_0's rmse: 0.952277\tvalid_0's l2: 0.906832\n",
      "[24]\tvalid_0's rmse: 0.951498\tvalid_0's l2: 0.905349\n",
      "[25]\tvalid_0's rmse: 0.950973\tvalid_0's l2: 0.90435\n",
      "[26]\tvalid_0's rmse: 0.950505\tvalid_0's l2: 0.903461\n",
      "[27]\tvalid_0's rmse: 0.95014\tvalid_0's l2: 0.902766\n",
      "[28]\tvalid_0's rmse: 0.949515\tvalid_0's l2: 0.901579\n",
      "[29]\tvalid_0's rmse: 0.949397\tvalid_0's l2: 0.901354\n",
      "[30]\tvalid_0's rmse: 0.94955\tvalid_0's l2: 0.901646\n",
      "[31]\tvalid_0's rmse: 0.949485\tvalid_0's l2: 0.901521\n",
      "[32]\tvalid_0's rmse: 0.949129\tvalid_0's l2: 0.900846\n",
      "[33]\tvalid_0's rmse: 0.948999\tvalid_0's l2: 0.9006\n",
      "[34]\tvalid_0's rmse: 0.94921\tvalid_0's l2: 0.901\n",
      "[35]\tvalid_0's rmse: 0.948963\tvalid_0's l2: 0.900532\n",
      "[36]\tvalid_0's rmse: 0.948856\tvalid_0's l2: 0.900328\n",
      "[37]\tvalid_0's rmse: 0.948692\tvalid_0's l2: 0.900016\n",
      "[38]\tvalid_0's rmse: 0.948382\tvalid_0's l2: 0.899428\n",
      "[39]\tvalid_0's rmse: 0.94844\tvalid_0's l2: 0.899538\n",
      "[40]\tvalid_0's rmse: 0.948509\tvalid_0's l2: 0.899669\n",
      "[41]\tvalid_0's rmse: 0.948366\tvalid_0's l2: 0.899397\n",
      "[42]\tvalid_0's rmse: 0.950585\tvalid_0's l2: 0.903612\n",
      "[43]\tvalid_0's rmse: 0.950581\tvalid_0's l2: 0.903604\n",
      "[44]\tvalid_0's rmse: 0.951484\tvalid_0's l2: 0.905321\n",
      "[45]\tvalid_0's rmse: 0.951766\tvalid_0's l2: 0.905858\n",
      "[46]\tvalid_0's rmse: 0.951753\tvalid_0's l2: 0.905833\n",
      "[47]\tvalid_0's rmse: 0.95162\tvalid_0's l2: 0.905581\n",
      "[48]\tvalid_0's rmse: 0.951274\tvalid_0's l2: 0.904922\n",
      "[49]\tvalid_0's rmse: 0.95087\tvalid_0's l2: 0.904154\n",
      "[50]\tvalid_0's rmse: 0.953656\tvalid_0's l2: 0.909461\n",
      "[51]\tvalid_0's rmse: 0.953644\tvalid_0's l2: 0.909437\n",
      "[52]\tvalid_0's rmse: 0.955542\tvalid_0's l2: 0.913061\n",
      "[53]\tvalid_0's rmse: 0.955233\tvalid_0's l2: 0.91247\n",
      "[54]\tvalid_0's rmse: 0.9553\tvalid_0's l2: 0.912598\n",
      "[55]\tvalid_0's rmse: 0.955196\tvalid_0's l2: 0.912399\n",
      "[56]\tvalid_0's rmse: 0.955373\tvalid_0's l2: 0.912738\n",
      "[57]\tvalid_0's rmse: 0.955537\tvalid_0's l2: 0.913051\n",
      "[58]\tvalid_0's rmse: 0.959832\tvalid_0's l2: 0.921278\n",
      "[59]\tvalid_0's rmse: 0.959825\tvalid_0's l2: 0.921264\n",
      "[60]\tvalid_0's rmse: 0.959499\tvalid_0's l2: 0.920638\n",
      "[61]\tvalid_0's rmse: 0.959494\tvalid_0's l2: 0.920628\n"
     ]
    },
    {
     "data": {
      "text/plain": [
       "LGBMRegressor(max_depth=10, n_estimators=10000)"
      ]
     },
     "execution_count": 26,
     "metadata": {},
     "output_type": "execute_result"
    }
   ],
   "source": [
    "gbm = LGBMRegressor(n_estimators=10000, max_depth=10, n_jobs=-1)\n",
    "gbm.fit(x_train, y_train,\n",
    "        early_stopping_rounds=20,\n",
    "        eval_metric='rmse',\n",
    "        eval_set=(x_val, y_val),\n",
    "        verbose=1)"
   ]
  }
 ],
 "metadata": {
  "kernelspec": {
   "display_name": "Python 3",
   "language": "python",
   "name": "python3"
  },
  "language_info": {
   "codemirror_mode": {
    "name": "ipython",
    "version": 3
   },
   "file_extension": ".py",
   "mimetype": "text/x-python",
   "name": "python",
   "nbconvert_exporter": "python",
   "pygments_lexer": "ipython3",
   "version": "3.7.12"
  },
  "papermill": {
   "default_parameters": {},
   "duration": 660.278353,
   "end_time": "2022-01-15T16:12:42.412381",
   "environment_variables": {},
   "exception": null,
   "input_path": "__notebook__.ipynb",
   "output_path": "__notebook__.ipynb",
   "parameters": {},
   "start_time": "2022-01-15T16:01:42.134028",
   "version": "2.3.3"
  }
 },
 "nbformat": 4,
 "nbformat_minor": 5
}
